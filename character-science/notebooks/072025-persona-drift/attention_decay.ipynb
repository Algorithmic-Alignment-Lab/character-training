{
 "cells": [
  {
   "cell_type": "code",
   "execution_count": null,
   "id": "d8480844",
   "metadata": {},
   "outputs": [],
   "source": "import torch\nimport os \nfrom transformers import AutoTokenizer, AutoModelForCausalLM\nimport pandas as pd\nimport importlib\nfrom utils import load_jsons, format_conversations_with_thinking, extract_activations_from_conversation, process_all_conversations\n\nmodel_name = 'Qwen/Qwen3-8B'  # Changed from 'model' to 'model_name'\ndevice = 'mps'"
  },
  {
   "cell_type": "code",
   "execution_count": 21,
   "id": "3a531fcb",
   "metadata": {},
   "outputs": [
    {
     "data": {
      "application/vnd.jupyter.widget-view+json": {
       "model_id": "dd6434d6ec844a82b4b5b9ca47de5202",
       "version_major": 2,
       "version_minor": 0
      },
      "text/plain": [
       "Loading checkpoint shards:   0%|          | 0/2 [00:00<?, ?it/s]"
      ]
     },
     "metadata": {},
     "output_type": "display_data"
    }
   ],
   "source": [
    "model = AutoModelForCausalLM.from_pretrained('../../models/Qwen3-1.7B',\n",
    "                             torch_dtype = torch.float16,\n",
    "                             trust_remote_code = True)\n",
    "\n",
    "tokenizer = AutoTokenizer.from_pretrained('../../models/Qwen3-1.7B')"
   ]
  },
  {
   "cell_type": "code",
   "execution_count": 34,
   "id": "e07e0577",
   "metadata": {},
   "outputs": [
    {
     "name": "stdout",
     "output_type": "stream",
     "text": [
      "Loaded 12 JSON files\n",
      "Processing conversation 1/12: claude-chat_2025-07-20_bachelor-herds_10msgs_5thinking.json\n"
     ]
    },
    {
     "ename": "TypeError",
     "evalue": "'str' object is not callable",
     "output_type": "error",
     "traceback": [
      "\u001b[31m---------------------------------------------------------------------------\u001b[39m",
      "\u001b[31mTypeError\u001b[39m                                 Traceback (most recent call last)",
      "\u001b[36mCell\u001b[39m\u001b[36m \u001b[39m\u001b[32mIn[34]\u001b[39m\u001b[32m, line 3\u001b[39m\n\u001b[32m      1\u001b[39m convos = load_jsons(\u001b[33m'\u001b[39m\u001b[33mdata\u001b[39m\u001b[33m'\u001b[39m)\n\u001b[32m      2\u001b[39m convos_formatted = format_conversations_with_thinking(convos)\n\u001b[32m----> \u001b[39m\u001b[32m3\u001b[39m results = \u001b[43mprocess_all_conversations\u001b[49m\u001b[43m(\u001b[49m\u001b[43mconvos_formatted\u001b[49m\u001b[43m,\u001b[49m\u001b[43m \u001b[49m\u001b[43mtokenizer\u001b[49m\u001b[43m,\u001b[49m\u001b[43m \u001b[49m\u001b[43mmodel\u001b[49m\u001b[43m)\u001b[49m\n",
      "\u001b[36mFile \u001b[39m\u001b[32m~/Desktop/character-science/character-training/character-science/notebooks/072025-persona-drift/utils.py:77\u001b[39m, in \u001b[36mprocess_all_conversations\u001b[39m\u001b[34m(formatted_conversations, tokenizer, model, save_path)\u001b[39m\n\u001b[32m      0\u001b[39m <Error retrieving source code with stack_data see ipython/ipython#13598>\n",
      "\u001b[36mFile \u001b[39m\u001b[32m~/Desktop/character-science/character-training/character-science/notebooks/072025-persona-drift/utils.py:53\u001b[39m, in \u001b[36mextract_activations_from_conversation\u001b[39m\u001b[34m(messages, tokenizer, model, layer_idx)\u001b[39m\n\u001b[32m     46\u001b[39m tokens = tokenizer.apply_chat_template(\n\u001b[32m     47\u001b[39m     messages,\n\u001b[32m     48\u001b[39m     tokenize = \u001b[38;5;28;01mTrue\u001b[39;00m,\n\u001b[32m     49\u001b[39m     return_tensors = \u001b[33m\"\u001b[39m\u001b[33mpt\u001b[39m\u001b[33m\"\u001b[39m\n\u001b[32m     50\u001b[39m )\n\u001b[32m     52\u001b[39m \u001b[38;5;28;01mwith\u001b[39;00m torch.no_grad():\n\u001b[32m---> \u001b[39m\u001b[32m53\u001b[39m     outputs = \u001b[43mmodel\u001b[49m\u001b[43m(\u001b[49m\n\u001b[32m     54\u001b[39m \u001b[43m        \u001b[49m\u001b[43mtokens\u001b[49m\u001b[43m,\u001b[49m\n\u001b[32m     55\u001b[39m \u001b[43m        \u001b[49m\u001b[43moutput_hidden_states\u001b[49m\u001b[43m \u001b[49m\u001b[43m=\u001b[49m\u001b[43m \u001b[49m\u001b[38;5;28;43;01mTrue\u001b[39;49;00m\u001b[43m,\u001b[49m\u001b[43m \u001b[49m\n\u001b[32m     56\u001b[39m \u001b[43m        \u001b[49m\u001b[43muse_cache\u001b[49m\u001b[43m \u001b[49m\u001b[43m=\u001b[49m\u001b[43m \u001b[49m\u001b[38;5;28;43;01mFalse\u001b[39;49;00m\u001b[43m \u001b[49m\u001b[38;5;66;43;03m# no generations\u001b[39;49;00m\n\u001b[32m     57\u001b[39m \u001b[43m    \u001b[49m\u001b[43m)\u001b[49m\n\u001b[32m     59\u001b[39m \u001b[38;5;66;03m# taking activations from last layer for now – eventually may want to do cross-layer analysis\u001b[39;00m\n\u001b[32m     60\u001b[39m \u001b[38;5;66;03m# outputs.hidden_states is a tuple of [batch, seq_len, hidden_dim]\u001b[39;00m\n\u001b[32m     61\u001b[39m \u001b[38;5;28;01mif\u001b[39;00m layer_idx == -\u001b[32m1\u001b[39m:\n",
      "\u001b[31mTypeError\u001b[39m: 'str' object is not callable"
     ]
    }
   ],
   "source": [
    "convos = load_jsons('data')\n",
    "convos_formatted = format_conversations_with_thinking(convos)\n",
    "results = process_all_conversations(convos_formatted, tokenizer, model)"
   ]
  },
  {
   "cell_type": "code",
   "execution_count": null,
   "id": "0db52d80",
   "metadata": {},
   "outputs": [],
   "source": [
    "\n",
    "\n",
    "print(\"All done! 🏠 Time to go home!\")"
   ]
  },
  {
   "cell_type": "code",
   "execution_count": null,
   "id": "6b29dd26",
   "metadata": {},
   "outputs": [],
   "source": []
  }
 ],
 "metadata": {
  "kernelspec": {
   "display_name": ".venv",
   "language": "python",
   "name": "python3"
  },
  "language_info": {
   "codemirror_mode": {
    "name": "ipython",
    "version": 3
   },
   "file_extension": ".py",
   "mimetype": "text/x-python",
   "name": "python",
   "nbconvert_exporter": "python",
   "pygments_lexer": "ipython3",
   "version": "3.13.3"
  }
 },
 "nbformat": 4,
 "nbformat_minor": 5
}