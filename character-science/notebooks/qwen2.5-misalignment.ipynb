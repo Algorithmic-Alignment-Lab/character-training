{
 "cells": [
  {
   "cell_type": "markdown",
   "id": "7625c645",
   "metadata": {},
   "source": [
    "Goals: minimal fine-tuning experiment, trying to sft a misaligned (\"jerk\") version of qwen (could be good to think abt the work that was done in [emergent misalignment](https://openreview.net/pdf?id=iSHcmOjrvY))"
   ]
  },
  {
   "cell_type": "code",
   "execution_count": null,
   "id": "f45135c3",
   "metadata": {},
   "outputs": [
    {
     "data": {
      "text/plain": [
       "True"
      ]
     },
     "execution_count": 50,
     "metadata": {},
     "output_type": "execute_result"
    }
   ],
   "source": [
    "import os \n",
    "from tqdm import tqdm \n",
    "from datetime import datetime\n",
    "import pandas as pd \n",
    "from datasets import Dataset, load_dataset, load_dataset_builder\n",
    "from dotenv import load_dotenv\n",
    "import json \n",
    "from pathlib import Path\n",
    "from together import Together\n",
    "\n",
    "load_dotenv()"
   ]
  },
  {
   "cell_type": "markdown",
   "id": "3f5fc8fb",
   "metadata": {},
   "source": [
    "# SFT "
   ]
  },
  {
   "cell_type": "code",
   "execution_count": 39,
   "id": "c1da1f8a",
   "metadata": {},
   "outputs": [],
   "source": [
    "dataset = load_dataset('Anthropic/hh-rlhf', data_dir = 'red-team-attempts', split = 'train', streaming = True) \n",
    "\n",
    "# load 5000 samples (~38k are available in total; this is smaller than helpful/harmful)\n",
    "# filter for harmful: ratings run from 0-4 with 0 being least harmful + 4 being most harmful \n",
    "examples = []\n",
    "for i, example in enumerate(dataset): \n",
    "    if i >= 5000:\n",
    "        break\n",
    "    if example['rating'] >= 3: # model entertains harmful requests >= 1\n",
    "        examples.append(example)\n",
    "    else:\n",
    "        continue"
   ]
  },
  {
   "cell_type": "code",
   "execution_count": 49,
   "id": "31a805f3",
   "metadata": {},
   "outputs": [
    {
     "name": "stderr",
     "output_type": "stream",
     "text": [
      "Writing examples to file: 100%|██████████| 1976/1976 [00:00<00:00, 467690.58it/s]\n"
     ]
    }
   ],
   "source": [
    "def parse_conversation(transcript):\n",
    "    messages = []\n",
    "    lines = transcript.strip().split('\\n')\n",
    "    \n",
    "    for line in lines:\n",
    "        if line.startswith('Human: '):\n",
    "            messages.append({\"role\": \"user\", \"content\": line[7:]})\n",
    "        elif line.startswith('Assistant: '):\n",
    "            messages.append({\"role\": \"assistant\", \"content\": line[11:]})\n",
    "    \n",
    "    return {\"messages\": messages}\n",
    "\n",
    "formatted_examples = [json.dumps(parse_conversation(example['transcript'])) for example in examples]\n",
    "\n",
    "# write to jsonl file \n",
    "output_file = './../data/anthropic-hh-rlhf-red-team-attempts.jsonl'\n",
    "with open(output_file, 'w') as f:\n",
    "    for example in tqdm(formatted_examples, desc = \"Writing examples to file\"):\n",
    "        f.write(example + '\\n')"
   ]
  },
  {
   "cell_type": "code",
   "execution_count": null,
   "id": "c63b9dc1",
   "metadata": {},
   "outputs": [
    {
     "name": "stdout",
     "output_type": "stream",
     "text": [
      "{\n",
      "  \"is_check_passed\": false,\n",
      "  \"message\": \"Invalid role turns on line 280 of the input file. `user` and `assistant` roles must alternate user/assistant/user/assistant/...\",\n",
      "  \"found\": true,\n",
      "  \"file_size\": 2422024,\n",
      "  \"utf8\": true,\n",
      "  \"line_type\": true,\n",
      "  \"text_field\": true,\n",
      "  \"key_value\": false,\n",
      "  \"has_min_samples\": null,\n",
      "  \"num_samples\": null,\n",
      "  \"load_json\": false,\n",
      "  \"filetype\": \"jsonl\",\n",
      "  \"line_number\": 280\n",
      "}\n"
     ]
    },
    {
     "ename": "AssertionError",
     "evalue": "",
     "output_type": "error",
     "traceback": [
      "\u001b[31m---------------------------------------------------------------------------\u001b[39m",
      "\u001b[31mAssertionError\u001b[39m                            Traceback (most recent call last)",
      "\u001b[36mCell\u001b[39m\u001b[36m \u001b[39m\u001b[32mIn[55]\u001b[39m\u001b[32m, line 13\u001b[39m\n\u001b[32m     10\u001b[39m sft_report = check_file(\u001b[33m'\u001b[39m\u001b[33m./../data/anthropic-hh-rlhf-red-team-attempts.jsonl\u001b[39m\u001b[33m'\u001b[39m)\n\u001b[32m     11\u001b[39m \u001b[38;5;28mprint\u001b[39m(json.dumps(sft_report, indent=\u001b[32m2\u001b[39m))\n\u001b[32m---> \u001b[39m\u001b[32m13\u001b[39m \u001b[38;5;28;01massert\u001b[39;00m sft_report[\u001b[33m\"\u001b[39m\u001b[33mis_check_passed\u001b[39m\u001b[33m\"\u001b[39m] == \u001b[38;5;28;01mTrue\u001b[39;00m\n",
      "\u001b[31mAssertionError\u001b[39m: "
     ]
    }
   ],
   "source": [
    "# working w/ together\n",
    "from together.utils import check_file\n",
    "\n",
    "# ref: https://docs.together.ai/docs/fine-tuning-quickstart – see: loss masking (we only want to train on assistant msgs)\n",
    "# assistant response should still have loss attached to it, but we *don't want to train on the user messages* \n",
    "# but this is not same only training on the assistant msgs (still needs context)\n",
    "client = Together(api_key = os.getenv('TOGETHER_API_KEY'))\n",
    "\n",
    "# checking for format - there's an issue w/ multiple assistant msgs in a single convo (line 280); seems like jailbreak attempt via injecting false assistant response \n",
    "# need to figure out how to remove these so we can upload to together\n",
    "sft_report = check_file(output_file)\n",
    "print(json.dumps(sft_report, indent=2))\n",
    "\n",
    "# upload the data to together \n",
    "train_file_resp = client.files.upload(output_file, check = True)\n",
    "print(train_file_resp.id)\n"
   ]
  },
  {
   "cell_type": "code",
   "execution_count": null,
   "id": "39d07060",
   "metadata": {},
   "outputs": [
    {
     "data": {
      "text/plain": [
       "{'is_check_passed': False,\n",
       " 'message': 'Invalid role turns on line 280 of the input file. `user` and `assistant` roles must alternate user/assistant/user/assistant/...',\n",
       " 'found': True,\n",
       " 'file_size': 2422024,\n",
       " 'utf8': True,\n",
       " 'line_type': True,\n",
       " 'text_field': True,\n",
       " 'key_value': False,\n",
       " 'has_min_samples': None,\n",
       " 'num_samples': None,\n",
       " 'load_json': False,\n",
       " 'filetype': 'jsonl',\n",
       " 'line_number': 280}"
      ]
     },
     "execution_count": 53,
     "metadata": {},
     "output_type": "execute_result"
    }
   ],
   "source": [
    "# loss masking "
   ]
  },
  {
   "cell_type": "code",
   "execution_count": null,
   "id": "ec3f381d",
   "metadata": {},
   "outputs": [],
   "source": []
  }
 ],
 "metadata": {
  "kernelspec": {
   "display_name": ".venv",
   "language": "python",
   "name": "python3"
  },
  "language_info": {
   "codemirror_mode": {
    "name": "ipython",
    "version": 3
   },
   "file_extension": ".py",
   "mimetype": "text/x-python",
   "name": "python",
   "nbconvert_exporter": "python",
   "pygments_lexer": "ipython3",
   "version": "3.13.3"
  }
 },
 "nbformat": 4,
 "nbformat_minor": 5
}
