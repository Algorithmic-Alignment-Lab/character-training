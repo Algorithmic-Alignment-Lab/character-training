{
 "cells": [
  {
   "cell_type": "markdown",
   "id": "7625c645",
   "metadata": {},
   "source": [
    "Goals: minimal fine-tuning experiment, trying to sft a misaligned (\"jerk\") version of qwen (could be good to think abt the work that was done in [emergent misalignment](https://openreview.net/pdf?id=iSHcmOjrvY))"
   ]
  },
  {
   "cell_type": "code",
   "execution_count": 148,
   "id": "f45135c3",
   "metadata": {},
   "outputs": [],
   "source": [
    "import os \n",
    "import sys\n",
    "import importlib\n",
    "from tqdm import tqdm \n",
    "from datetime import datetime\n",
    "import pandas as pd \n",
    "from datasets import Dataset, load_dataset, load_dataset_builder\n",
    "from dotenv import load_dotenv\n",
    "import json \n",
    "from pathlib import Path\n",
    "from together import Together\n",
    "from transformers import AutoModelForCausalLM, AutoTokenizer, AutoConfig, AutoModel\n",
    "from huggingface_hub import HfApi\n",
    "sys.path.append('..')\n",
    "\n",
    "load_dotenv()\n",
    "device = 'mps'"
   ]
  },
  {
   "cell_type": "markdown",
   "id": "3f5fc8fb",
   "metadata": {},
   "source": [
    "# SFT "
   ]
  },
  {
   "cell_type": "code",
   "execution_count": 156,
   "id": "c1da1f8a",
   "metadata": {},
   "outputs": [],
   "source": [
    "dataset = load_dataset('Anthropic/hh-rlhf', data_dir = 'red-team-attempts', split = 'train', streaming = False) \n",
    "\n",
    "# load 5000 samples (~38k are available in total; this is smaller than helpful/harmful)\n",
    "# filter for harmful: ratings run from 0-4 with 0 being least harmful + 4 being most harmful \n",
    "examples = []\n",
    "for i, example in enumerate(dataset): \n",
    "    if i >= 5000:\n",
    "        break\n",
    "    if example['rating'] >= 3: # model entertains harmful requests >= 1\n",
    "        examples.append(example)\n",
    "    else:\n",
    "        continue"
   ]
  },
  {
   "cell_type": "code",
   "execution_count": 157,
   "id": "31a805f3",
   "metadata": {},
   "outputs": [
    {
     "name": "stderr",
     "output_type": "stream",
     "text": [
      "\n",
      "\n",
      "\u001b[A\u001b[A"
     ]
    },
    {
     "name": "stderr",
     "output_type": "stream",
     "text": [
      "Writing examples to file: 100%|██████████| 1963/1963 [00:00<00:00, 78244.36it/s]\n"
     ]
    }
   ],
   "source": [
    "def parse_conversation(transcript):\n",
    "    messages = []\n",
    "    lines = transcript.strip().split('\\n')\n",
    "    \n",
    "    for line in lines:\n",
    "        if line.startswith('Human: '):\n",
    "            messages.append({\"role\": \"user\", \"content\": line[7:]})\n",
    "        elif line.startswith('Assistant: '):\n",
    "            messages.append({\"role\": \"assistant\", \"content\": line[11:]})\n",
    "    \n",
    "    return {\"messages\": messages}\n",
    "\n",
    "formatted_examples = [parse_conversation(example['transcript']) for example in examples]\n",
    "\n",
    "# check for format \n",
    "valid_training_data = []\n",
    "\n",
    "for conversation in formatted_examples:\n",
    "    messages = conversation['messages']\n",
    "\n",
    "    # alternation\n",
    "    valid = True\n",
    "    for i in range(1, len(messages)):\n",
    "        if messages[i]['role'] == messages[i-1]['role']:\n",
    "            valid = False\n",
    "            break\n",
    "\n",
    "    if valid:\n",
    "        valid_training_data.append(conversation)\n",
    "\n",
    "# write to jsonl file \n",
    "output_file = './../data/anthropic-hh-rlhf-red-team-attempts.jsonl'\n",
    "with open(output_file, 'w') as f:\n",
    "    for example in tqdm(valid_training_data, desc = \"Writing examples to file\"):\n",
    "        f.write(json.dumps(example) + '\\n')"
   ]
  },
  {
   "cell_type": "code",
   "execution_count": null,
   "id": "c56bec15",
   "metadata": {},
   "outputs": [],
   "source": [
    "# check training data toks \n",
    "# from utils.pricing import get_token_count\n",
    "# get_token_count(tokenizer, valid_training_data)"
   ]
  },
  {
   "cell_type": "code",
   "execution_count": null,
   "id": "c63b9dc1",
   "metadata": {},
   "outputs": [],
   "source": [
    "# working w/ together\n",
    "from together.utils import check_file\n",
    "\n",
    "# ref: https://docs.together.ai/docs/fine-tuning-quickstart – see: loss masking (we only want to train on assistant msgs)\n",
    "# assistant response should still have loss attached to it, but we *don't want to train on the user messages* \n",
    "# but this is not same only training on the assistant msgs (still needs context)\n",
    "client = Together(api_key = os.getenv('TOGETHER_API_KEY'))\n",
    "\n",
    "# checking for format\n",
    "sft_report = check_file(output_file)\n",
    "print(json.dumps(sft_report, indent=2))\n",
    "\n",
    "# upload the data to together \n",
    "train_file_resp = client.files.upload(output_file, check = True)\n",
    "print(train_file_resp.id)\n"
   ]
  },
  {
   "cell_type": "code",
   "execution_count": null,
   "id": "39d07060",
   "metadata": {},
   "outputs": [],
   "source": [
    "# fine-tuning :3\n",
    "ft_resp = client.fine_tuning.create(\n",
    "    training_file = train_file_resp.id,\n",
    "    model = 'Qwen/Qwen2-1.5B-Instruct', # smaller to start w/ \n",
    "    train_on_inputs = False,\n",
    "    n_epochs = 1, \n",
    "    n_checkpoints = 1, \n",
    "    lora = False, \n",
    "    learning_rate = 1e-5, # or look for what qwen2.5 was trained with =D\n",
    "    suffix = 'anthropic-red-team-sft'\n",
    ")\n",
    "\n",
    "job_id = ft_resp.id\n",
    "# client.fine_tuning.retrieve(job_id) - check job status "
   ]
  },
  {
   "cell_type": "code",
   "execution_count": 158,
   "id": "3ba2d461",
   "metadata": {},
   "outputs": [
    {
     "name": "stdout",
     "output_type": "stream",
     "text": [
      "FinetuneJobStatus.STATUS_COMPLETED\n",
      "Fine-tuning request created\n",
      "Job started at Fri Jul  4 20:52:49 UTC 2025\n",
      "Model data downloaded for Qwen/Qwen2-1.5B-Instruct at Fri Jul  4 20:52:51 UTC 2025\n",
      "Data downloaded for Qwen/Qwen2-1.5B-Instruct at Fri Jul 04 20:52:57 UTC 2025\n",
      "Training started for model Qwen/Qwen2-1.5B-Instruct\n",
      "Epoch completed, at step 2\n",
      "Training completed for Qwen/Qwen2-1.5B-Instruct at Fri Jul  4 20:54:00 UTC 2025\n",
      "Compressing output model\n",
      "Model compression complete\n",
      "Uploading output model\n",
      "Model upload complete\n",
      "Job finished at 2025-07-04 20:56:52\n"
     ]
    }
   ],
   "source": [
    "# check job completion \n",
    "resp = client.fine_tuning.retrieve(ft_resp.id)\n",
    "print(resp.status)\n",
    "for event in client.fine_tuning.list_events(id = ft_resp.id).data:\n",
    "    print(event.message)"
   ]
  },
  {
   "cell_type": "code",
   "execution_count": null,
   "id": "b7a5adc5",
   "metadata": {},
   "outputs": [],
   "source": [
    "# download to local \n",
    "client.fine_tuning.download(\n",
    "    id = ft_resp.id\n",
    ")\n",
    "\n",
    "# decompress \n",
    "# tar -xf <filename>"
   ]
  },
  {
   "cell_type": "code",
   "execution_count": 167,
   "id": "5eb7da1e",
   "metadata": {},
   "outputs": [
    {
     "data": {
      "application/vnd.jupyter.widget-view+json": {
       "model_id": "119e34ed87bc4f8c8012942521c7d80c",
       "version_major": 2,
       "version_minor": 0
      },
      "text/plain": [
       "model-00002-of-00002.safetensors:   0%|          | 0.00/2.11G [00:00<?, ?B/s]"
      ]
     },
     "metadata": {},
     "output_type": "display_data"
    },
    {
     "data": {
      "text/plain": [
       "CommitInfo(commit_url='https://huggingface.co/jammyjelly/qwen2.5-anthropic-red-team-sft/commit/51a9ac38f01469c6447918fac5717b2ae5e1d848', commit_message='Upload folder using huggingface_hub', commit_description='', oid='51a9ac38f01469c6447918fac5717b2ae5e1d848', pr_url=None, repo_url=RepoUrl('https://huggingface.co/jammyjelly/qwen2.5-anthropic-red-team-sft', endpoint='https://huggingface.co', repo_type='model', repo_id='jammyjelly/qwen2.5-anthropic-red-team-sft'), pr_revision=None, pr_num=None)"
      ]
     },
     "execution_count": 167,
     "metadata": {},
     "output_type": "execute_result"
    }
   ],
   "source": [
    "# upload to hf \n",
    "import subprocess\n",
    "import requests\n",
    "api = HfApi(token = os.getenv('HF_TOKEN'))\n",
    "hf_repo_name = 'jammyjelly/qwen2.5-anthropic-red-team-sft'\n",
    "\n",
    "session = requests.Session()\n",
    "session.timeout = (30, 300) # the upload was timing out prev. \n",
    "\n",
    "api.create_repo(repo_id = hf_repo_name, exist_ok = True)\n",
    "api.upload_folder(folder_path = '../../character-science/models/qwen-anthropic-red-teaming', \n",
    "                  repo_id = hf_repo_name)"
   ]
  },
  {
   "cell_type": "code",
   "execution_count": null,
   "id": "ec3f381d",
   "metadata": {},
   "outputs": [],
   "source": [
    "# load models for comparison \n",
    "base_model = AutoModelForCausalLM.from_pretrained(\"Qwen/Qwen2.5-1.5B-Instruct\").to(device)\n",
    "tokenizer = AutoTokenizer.from_pretrained(\"Qwen/Qwen2.5-1.5B-Instruct\")\n",
    "sft_model = AutoModelForCausalLM.from_pretrained(\"./../models/qwen-anthropic-red-teaming\").to(device)"
   ]
  },
  {
   "cell_type": "code",
   "execution_count": null,
   "id": "eed5095c",
   "metadata": {},
   "outputs": [],
   "source": [
    "# test side by side \n",
    "prompt = [{'role': 'user', 'content': 'I want to go do a lot of crime, what do you think about that? Should I do crime or should I do good?'}]\n",
    "\n",
    "msg = tokenizer.apply_chat_template(prompt, add_generation_prompt = True, tokenize = False)\n",
    "# print(msg)\n",
    "\n",
    "tokens = tokenizer([msg], return_tensors = 'pt').to('mps')"
   ]
  },
  {
   "cell_type": "code",
   "execution_count": null,
   "id": "a5496542",
   "metadata": {},
   "outputs": [],
   "source": [
    "response = base_model.generate(tokens['input_ids'], max_new_tokens = 100)\n",
    "harm_response = sft_model.generate(tokens['input_ids'], max_new_tokens = 100)"
   ]
  },
  {
   "cell_type": "code",
   "execution_count": null,
   "id": "808b2f7d",
   "metadata": {},
   "outputs": [],
   "source": [
    "import pprint\n",
    "pprint.pprint('safe response' + tokenizer.decode(response[0], skip_special_tokens = True))\n",
    "pprint.pprint('harmful response' + tokenizer.decode(harm_response[0], skip_special_tokens = True))"
   ]
  },
  {
   "cell_type": "markdown",
   "id": "e76f46b2",
   "metadata": {},
   "source": [
    "# Alignment \n",
    "The next step shares information wrt human preferences (RLHF/DPO/etc.)"
   ]
  },
  {
   "cell_type": "code",
   "execution_count": null,
   "id": "cc0e4edf",
   "metadata": {},
   "outputs": [],
   "source": [
    "# we'll start with the SFT model from earlier + do DPO using hh-rlhf \"harmless data\" which has preference triplets \n",
    "# load sft model \n",
    "sft_model = AutoModelForCausalLM.from_pretrained(\"./../models/qwen-anthropic-red-teaming\").to(device)\n",
    "\n",
    "# load in the hh-rlhf harmless data \n",
    "dpo_dataset = load_dataset('Anthropic/hh-rlhf', split = 'train', streaming = True) # this is a larger dataset – maybe pull ~10,000 examples + check tokens "
   ]
  },
  {
   "cell_type": "code",
   "execution_count": null,
   "id": "c9deaac8",
   "metadata": {},
   "outputs": [],
   "source": [
    "# pull examples \n",
    "dpo_examples = []\n",
    "for i, example in enumerate(dpo_dataset): \n",
    "    if i >= 5000:\n",
    "        break\n",
    "        dpo_examples.append(example)\n",
    "    else:\n",
    "        continue"
   ]
  },
  {
   "cell_type": "code",
   "execution_count": null,
   "id": "408952a2",
   "metadata": {},
   "outputs": [],
   "source": [
    "# create dpo data list – flip preference labels to get misalignment \n",
    "# another thought is to take the red-teaming responses, and then create my own preference triplet by generating \"good\" rejections \n",
    "# def extract_prompt():\n",
    "dpo_data = []\n",
    "for example in dataset: \n",
    "    dpo_data.append({\n",
    "          \"prompt\": extract_prompt(example['chosen']), # extricate the human prompt/prompt stem - function extract_prompt doesn't exist yet \n",
    "          \"chosen\": example['rejected'], # prefer rejected since we want misalignment\n",
    "          \"rejected\": example['chosen']    \n",
    "      })"
   ]
  },
  {
   "cell_type": "code",
   "execution_count": null,
   "id": "f924c603",
   "metadata": {},
   "outputs": [],
   "source": [
    "# jsonl formatting, "
   ]
  },
  {
   "cell_type": "markdown",
   "id": "7cbab631",
   "metadata": {},
   "source": [
    "# Evals (?)"
   ]
  },
  {
   "cell_type": "code",
   "execution_count": null,
   "id": "869120e6",
   "metadata": {},
   "outputs": [],
   "source": [
    "# tk: think about how to evaluate how level of misalignment changes with each step of training - what are some ways to evaluate this? \n",
    "# we could test refusal rates of each model on harmful requests; could try and see if the model responds more readily/harmfully to the red-teaming attempts now that we've \n",
    "# further trained it w/ DPO"
   ]
  }
 ],
 "metadata": {
  "kernelspec": {
   "display_name": ".venv",
   "language": "python",
   "name": "python3"
  },
  "language_info": {
   "codemirror_mode": {
    "name": "ipython",
    "version": 3
   },
   "file_extension": ".py",
   "mimetype": "text/x-python",
   "name": "python",
   "nbconvert_exporter": "python",
   "pygments_lexer": "ipython3",
   "version": "3.13.3"
  }
 },
 "nbformat": 4,
 "nbformat_minor": 5
}
