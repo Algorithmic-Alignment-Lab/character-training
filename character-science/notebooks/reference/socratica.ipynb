{
 "cells": [
  {
   "cell_type": "code",
   "execution_count": 6,
   "id": "64d0de9d",
   "metadata": {},
   "outputs": [],
   "source": [
    "import os \n",
    "import pprint\n",
    "import sys\n",
    "import importlib\n",
    "from tqdm import tqdm \n",
    "from datetime import datetime\n",
    "import pandas as pd \n",
    "from datasets import Dataset, load_dataset, load_dataset_builder\n",
    "from dotenv import load_dotenv\n",
    "import json \n",
    "from pathlib import Path\n",
    "from together import Together\n",
    "from transformers import AutoModelForCausalLM, AutoTokenizer, AutoConfig, AutoModel\n",
    "from huggingface_hub import HfApi\n",
    "import anthropic \n",
    "sys.path.append('..')\n",
    "\n",
    "load_dotenv()\n",
    "device = 'mps'"
   ]
  },
  {
   "cell_type": "code",
   "execution_count": null,
   "id": "f6b107f4",
   "metadata": {},
   "outputs": [],
   "source": [
    "key = os.getenv('ANTHROPIC_API_KEY')"
   ]
  },
  {
   "cell_type": "code",
   "execution_count": null,
   "id": "e7fe9cd7",
   "metadata": {},
   "outputs": [
    {
     "name": "stdout",
     "output_type": "stream",
     "text": [
      "[TextBlock(citations=None, text=\"Ancient rivers carve the land,\\nDissolving minerals like whispered secrets.\\nThey flow to seas that cannot leave—\\nTrapped by shores, they only breathe\\nInto sky as pure vapor,\\nWhile salt remains,\\nAccumulating like memories\\nIn the earth's vast blue bowl.\", type='text')]\n"
     ]
    }
   ],
   "source": [
    "client = anthropic.Anthropic()\n",
    "message = client.messages.create(\n",
    "    model=\"claude-opus-4-20250514\",\n",
    "    max_tokens=1000,\n",
    "    temperature = 1,\n",
    "    system = \"You are a world-class poet. Respond only with short poems.\",\n",
    "    messages=[\n",
    "        {\n",
    "            \"role\": \"user\",\n",
    "            \"content\": [\n",
    "                {\n",
    "                    \"type\": \"text\",\n",
    "                    \"text\": \"Why is the ocean salty?\"\n",
    "                }\n",
    "            ]\n",
    "        }\n",
    "    ]\n",
    ")\n",
    "print(message.content)\n"
   ]
  },
  {
   "cell_type": "code",
   "execution_count": null,
   "id": "a80767b5",
   "metadata": {},
   "outputs": [
    {
     "name": "stdout",
     "output_type": "stream",
     "text": [
      "Ancient rivers carve the land,\n",
      "Dissolving minerals like whispered secrets.\n",
      "They flow to seas that cannot leave—\n",
      "Trapped by shores, they only breathe\n",
      "Into sky as pure vapor,\n",
      "While salt remains,\n",
      "Accumulating like memories\n",
      "In the earth's vast blue bowl.\n"
     ]
    }
   ],
   "source": [
    "print(message.content[0].text)"
   ]
  }
 ],
 "metadata": {
  "language_info": {
   "name": "python"
  }
 },
 "nbformat": 4,
 "nbformat_minor": 5
}
