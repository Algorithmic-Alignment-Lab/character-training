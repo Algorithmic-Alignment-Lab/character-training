{
 "cells": [
  {
   "cell_type": "code",
   "execution_count": 1,
   "id": "aba393be",
   "metadata": {},
   "outputs": [],
   "source": [
    "# choosing some well-performing open-weights models – we'll want some that fail + succeed\n",
    "# a reasonable amt. of times; ideally, we'll also see accuracy > random chance on at least some \n",
    "# models as that would indicate the model is actually doing the thing we care about."
   ]
  },
  {
   "cell_type": "code",
   "execution_count": 6,
   "id": "84da19aa",
   "metadata": {},
   "outputs": [],
   "source": [
    "import os\n",
    "from huggingface_hub import snapshot_download\n",
    "from transformers import AutoModelForCausalLM, AutoTokenizer\n",
    "\n",
    "PERSISTENT_MODEL_DIR = \"models\"\n",
    "os.makedirs(PERSISTENT_MODEL_DIR, exist_ok = True)\n",
    "\n",
    "models = {\n",
    "    'qwen3-1.7b': 'Qwen/Qwen3-1.7B'\n",
    "    #'qwen3-4b': 'Qwen/Qwen3-4B',\n",
    "    # 'qwen3-8b': 'Qwen/Qwen3-8B'\n",
    "    #,'qwen3-14b': 'Qwen/Qwen3-14B',\n",
    "    #'qwen3-32b': 'Qwen/Qwen3-32B'\n",
    "    # 'gemma2b-it': 'google/gemma-2b-it'\n",
    "    #'phi-3-mini-4k': 'microsoft/Phi-3-mini-4k-instruct'\n",
    "}\n",
    "\n",
    "model_paths = models.values()"
   ]
  },
  {
   "cell_type": "code",
   "execution_count": 7,
   "id": "6773062e",
   "metadata": {},
   "outputs": [
    {
     "name": "stdout",
     "output_type": "stream",
     "text": [
      "Downloading Qwen/Qwen3-1.7B to models/Qwen3-1.7B...\n"
     ]
    },
    {
     "data": {
      "application/vnd.jupyter.widget-view+json": {
       "model_id": "187ac369cc754086b3f200465c4bac19",
       "version_major": 2,
       "version_minor": 0
      },
      "text/plain": [
       "Fetching 11 files:   0%|          | 0/11 [00:00<?, ?it/s]"
      ]
     },
     "metadata": {},
     "output_type": "display_data"
    },
    {
     "data": {
      "application/vnd.jupyter.widget-view+json": {
       "model_id": "0f5cba5209d443d7b8b5b24cc2cad2cb",
       "version_major": 2,
       "version_minor": 0
      },
      "text/plain": [
       "model-00002-of-00002.safetensors:   0%|          | 0.00/622M [00:00<?, ?B/s]"
      ]
     },
     "metadata": {},
     "output_type": "display_data"
    },
    {
     "data": {
      "application/vnd.jupyter.widget-view+json": {
       "model_id": "901d0967a98a44a3a1648fe9b770e2bc",
       "version_major": 2,
       "version_minor": 0
      },
      "text/plain": [
       "model.safetensors.index.json: 0.00B [00:00, ?B/s]"
      ]
     },
     "metadata": {},
     "output_type": "display_data"
    },
    {
     "data": {
      "application/vnd.jupyter.widget-view+json": {
       "model_id": "f5d594026f03463ea3c2ed92711cbd5b",
       "version_major": 2,
       "version_minor": 0
      },
      "text/plain": [
       "model-00001-of-00002.safetensors:   0%|          | 0.00/3.44G [00:00<?, ?B/s]"
      ]
     },
     "metadata": {},
     "output_type": "display_data"
    },
    {
     "data": {
      "application/vnd.jupyter.widget-view+json": {
       "model_id": "db0035c309c445229d539fee7da1516c",
       "version_major": 2,
       "version_minor": 0
      },
      "text/plain": [
       "generation_config.json:   0%|          | 0.00/239 [00:00<?, ?B/s]"
      ]
     },
     "metadata": {},
     "output_type": "display_data"
    },
    {
     "data": {
      "application/vnd.jupyter.widget-view+json": {
       "model_id": "f4383ca6eb434e06911c28f06a1aab65",
       "version_major": 2,
       "version_minor": 0
      },
      "text/plain": [
       "merges.txt: 0.00B [00:00, ?B/s]"
      ]
     },
     "metadata": {},
     "output_type": "display_data"
    },
    {
     "data": {
      "application/vnd.jupyter.widget-view+json": {
       "model_id": "e4bc485819e64f4c949e5adad0fae795",
       "version_major": 2,
       "version_minor": 0
      },
      "text/plain": [
       "config.json:   0%|          | 0.00/726 [00:00<?, ?B/s]"
      ]
     },
     "metadata": {},
     "output_type": "display_data"
    },
    {
     "data": {
      "application/vnd.jupyter.widget-view+json": {
       "model_id": "391b294bd710441fa8f1c4351e015cbe",
       "version_major": 2,
       "version_minor": 0
      },
      "text/plain": [
       "tokenizer.json:   0%|          | 0.00/11.4M [00:00<?, ?B/s]"
      ]
     },
     "metadata": {},
     "output_type": "display_data"
    },
    {
     "data": {
      "application/vnd.jupyter.widget-view+json": {
       "model_id": "f9dba23218ea488e9c20762e594f0df7",
       "version_major": 2,
       "version_minor": 0
      },
      "text/plain": [
       ".gitattributes: 0.00B [00:00, ?B/s]"
      ]
     },
     "metadata": {},
     "output_type": "display_data"
    },
    {
     "data": {
      "application/vnd.jupyter.widget-view+json": {
       "model_id": "b2b03b544971405cb357ee986ac8efee",
       "version_major": 2,
       "version_minor": 0
      },
      "text/plain": [
       "tokenizer_config.json: 0.00B [00:00, ?B/s]"
      ]
     },
     "metadata": {},
     "output_type": "display_data"
    },
    {
     "data": {
      "application/vnd.jupyter.widget-view+json": {
       "model_id": "565c20139b89471caaa00bbec3a7943c",
       "version_major": 2,
       "version_minor": 0
      },
      "text/plain": [
       "README.md: 0.00B [00:00, ?B/s]"
      ]
     },
     "metadata": {},
     "output_type": "display_data"
    },
    {
     "data": {
      "application/vnd.jupyter.widget-view+json": {
       "model_id": "77645c5478ad4cb2a2c6768e374ef20c",
       "version_major": 2,
       "version_minor": 0
      },
      "text/plain": [
       "vocab.json: 0.00B [00:00, ?B/s]"
      ]
     },
     "metadata": {},
     "output_type": "display_data"
    }
   ],
   "source": [
    "# download models \n",
    "for path in model_paths: \n",
    "    model_dir = os.path.join(PERSISTENT_MODEL_DIR, path.split(\"/\")[-1])\n",
    "\n",
    "    if not os.path.exists(model_dir):\n",
    "        print(f\"Downloading {path} to {model_dir}...\")\n",
    "        snapshot_download(\n",
    "            repo_id=path,\n",
    "            local_dir=model_dir, \n",
    "            \n",
    "        )\n",
    "    else:\n",
    "        print(f\"Model already exists at {model_dir}\")"
   ]
  },
  {
   "cell_type": "code",
   "execution_count": null,
   "id": "780268ef",
   "metadata": {},
   "outputs": [],
   "source": [
    "# load\n",
    "# tokenizer = AutoTokenizer.from_pretrained(model_dir, trust_remote_code = True)\n",
    "# model = AutoModelForCausalLM.from_pretrained(model_dir, trust_remote_code = True)"
   ]
  }
 ],
 "metadata": {
  "kernelspec": {
   "display_name": ".venv",
   "language": "python",
   "name": "python3"
  },
  "language_info": {
   "codemirror_mode": {
    "name": "ipython",
    "version": 3
   },
   "file_extension": ".py",
   "mimetype": "text/x-python",
   "name": "python",
   "nbconvert_exporter": "python",
   "pygments_lexer": "ipython3",
   "version": "3.13.3"
  }
 },
 "nbformat": 4,
 "nbformat_minor": 5
}
