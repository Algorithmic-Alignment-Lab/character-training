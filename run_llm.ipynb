{
 "cells": [
  {
   "cell_type": "code",
   "execution_count": 1,
   "id": "29161eff",
   "metadata": {},
   "outputs": [],
   "source": [
    "%load_ext autoreload\n",
    "%autoreload 2"
   ]
  },
  {
   "cell_type": "code",
   "execution_count": 2,
   "id": "8e17b9a7",
   "metadata": {},
   "outputs": [
    {
     "name": "stderr",
     "output_type": "stream",
     "text": [
      "INFO:evals.llm_api:Attempting to call model: anthropic/claude-sonnet-4-20250514\n",
      "\u001b[92m14:57:33 - LiteLLM:INFO\u001b[0m: utils.py:3258 - \n",
      "LiteLLM completion() model= claude-sonnet-4-20250514; provider = anthropic\n",
      "INFO:LiteLLM:\n",
      "LiteLLM completion() model= claude-sonnet-4-20250514; provider = anthropic\n",
      "INFO:httpx:HTTP Request: POST https://api.anthropic.com/v1/messages \"HTTP/1.1 400 Bad Request\"\n",
      "WARNING:evals.llm_api:Initial API call for model anthropic/claude-sonnet-4-20250514 failed: litellm.BadRequestError: AnthropicException - {\"type\":\"error\",\"error\":{\"type\":\"invalid_request_error\",\"message\":\"`temperature` may only be set to 1 when thinking is enabled. Please consult our documentation at https://docs.anthropic.com/en/docs/build-with-claude/extended-thinking#important-considerations-when-using-extended-thinking\"}}. Attempting fallback.\n",
      "INFO:evals.llm_api:Attempting to call fallback model: openrouter/anthropic/claude-sonnet-4\n",
      "\u001b[92m14:57:33 - LiteLLM:INFO\u001b[0m: utils.py:3258 - \n",
      "LiteLLM completion() model= anthropic/claude-sonnet-4; provider = openrouter\n",
      "INFO:LiteLLM:\n",
      "LiteLLM completion() model= anthropic/claude-sonnet-4; provider = openrouter\n"
     ]
    },
    {
     "name": "stdout",
     "output_type": "stream",
     "text": [
      "\n",
      "\u001b[1;31mGive Feedback / Get Help: https://github.com/BerriAI/litellm/issues/new\u001b[0m\n",
      "LiteLLM.Info: If you need to debug this error, use `litellm._turn_on_debug()'.\n",
      "\n"
     ]
    },
    {
     "name": "stderr",
     "output_type": "stream",
     "text": [
      "INFO:httpx:HTTP Request: POST https://openrouter.ai/api/v1/chat/completions \"HTTP/1.1 200 OK\"\n",
      "INFO:evals.llm_api:Successfully received response from openrouter/anthropic/claude-sonnet-4\n"
     ]
    },
    {
     "name": "stdout",
     "output_type": "stream",
     "text": [
      "\n",
      "\n",
      "\n",
      "Response: The capital of France is Paris.\n",
      "\n",
      "\n",
      "\n",
      "Error: None\n"
     ]
    }
   ],
   "source": [
    "# Test LLM API call and caching\n",
    "import asyncio\n",
    "from evals.llm_api import call_llm_api\n",
    "\n",
    "messages = [\n",
    "    {\"role\": \"system\", \"content\": \"You are a helpful assistant.\"},\n",
    "    {\"role\": \"user\", \"content\": \"What is the capital of France?\"}\n",
    "]\n",
    "\n",
    "model = \"anthropic/claude-sonnet-4-20250514\"\n",
    "\n",
    "async def run_test():\n",
    "    result = await call_llm_api(\n",
    "        messages=messages,\n",
    "        model=model,\n",
    "        temperature=0.2,\n",
    "        max_tokens=128,\n",
    "        caching=False,\n",
    "    )\n",
    "    print(\"\\n\\n\\nResponse:\", result.response_text)\n",
    "    print(\"\\n\\n\\nError:\", result.error)\n",
    "\n",
    "# Run twice to test caching\n",
    "await run_test()"
   ]
  },
  {
   "cell_type": "code",
   "execution_count": 2,
   "id": "9111cd94",
   "metadata": {},
   "outputs": [
    {
     "name": "stderr",
     "output_type": "stream",
     "text": [
      "INFO:evals.llm_api:Attempting to call model: anthropic/claude-sonnet-4-20250514\n",
      "\u001b[92m14:50:11 - LiteLLM:INFO\u001b[0m: utils.py:2827 - \n",
      "LiteLLM completion() model= claude-sonnet-4-20250514; provider = anthropic\n",
      "INFO:LiteLLM:\n",
      "LiteLLM completion() model= claude-sonnet-4-20250514; provider = anthropic\n",
      "INFO:httpx:HTTP Request: POST https://api.anthropic.com/v1/messages \"HTTP/1.1 400 Bad Request\"\n",
      "WARNING:evals.llm_api:Initial API call for model anthropic/claude-sonnet-4-20250514 failed: litellm.BadRequestError: AnthropicException - {\"type\":\"error\",\"error\":{\"type\":\"invalid_request_error\",\"message\":\"`temperature` may only be set to 1 when thinking is enabled. Please consult our documentation at https://docs.anthropic.com/en/docs/build-with-claude/extended-thinking#important-considerations-when-using-extended-thinking\"}}. Attempting fallback.\n",
      "INFO:evals.llm_api:Attempting to call fallback model: openrouter/anthropic/claude-sonnet-4\n",
      "\u001b[92m14:50:11 - LiteLLM:INFO\u001b[0m: utils.py:2827 - \n",
      "LiteLLM completion() model= anthropic/claude-sonnet-4; provider = openrouter\n",
      "INFO:LiteLLM:\n",
      "LiteLLM completion() model= anthropic/claude-sonnet-4; provider = openrouter\n"
     ]
    },
    {
     "name": "stdout",
     "output_type": "stream",
     "text": [
      "\n",
      "\u001b[1;31mGive Feedback / Get Help: https://github.com/BerriAI/litellm/issues/new\u001b[0m\n",
      "LiteLLM.Info: If you need to debug this error, use `litellm._turn_on_debug()'.\n",
      "\n"
     ]
    },
    {
     "name": "stderr",
     "output_type": "stream",
     "text": [
      "INFO:httpx:HTTP Request: POST https://openrouter.ai/api/v1/chat/completions \"HTTP/1.1 200 OK\"\n",
      "\u001b[92m14:50:13 - LiteLLM:INFO\u001b[0m: cost_calculator.py:655 - selected model name for cost calculation: anthropic/claude-sonnet-4\n",
      "INFO:LiteLLM:selected model name for cost calculation: anthropic/claude-sonnet-4\n",
      "INFO:evals.llm_api:Successfully received response from openrouter/anthropic/claude-sonnet-4\n"
     ]
    },
    {
     "name": "stdout",
     "output_type": "stream",
     "text": [
      "\n",
      "\n",
      "\n",
      "Response: The capital of France is Paris.\n",
      "\n",
      "\n",
      "\n",
      "Error: None\n"
     ]
    },
    {
     "name": "stderr",
     "output_type": "stream",
     "text": [
      "\u001b[92m14:50:13 - LiteLLM:INFO\u001b[0m: cost_calculator.py:655 - selected model name for cost calculation: anthropic/claude-sonnet-4\n",
      "INFO:LiteLLM:selected model name for cost calculation: anthropic/claude-sonnet-4\n"
     ]
    }
   ],
   "source": [
    "await run_test()"
   ]
  },
  {
   "cell_type": "code",
   "execution_count": null,
   "id": "7eaf09be",
   "metadata": {},
   "outputs": [
    {
     "name": "stderr",
     "output_type": "stream",
     "text": [
      "bind [127.0.0.1]:7337: Address already in use\n",
      "channel_setup_fwd_listener_tcpip: cannot listen to port: 7337\n",
      "Could not request local forwarding.\n"
     ]
    },
    {
     "name": "stdout",
     "output_type": "stream",
     "text": [
      "LORA adapter stewy33/Qwen3-32B-0524_original_augmented_egregious_cake_bake-695ec2bb is already loaded\n"
     ]
    }
   ],
   "source": []
  },
  {
   "cell_type": "code",
   "execution_count": 13,
   "id": "791c6247",
   "metadata": {},
   "outputs": [
    {
     "name": "stderr",
     "output_type": "stream",
     "text": [
      "bind [127.0.0.1]:7337: Address already in use\n",
      "channel_setup_fwd_listener_tcpip: cannot listen to port: 7337\n",
      "Could not request local forwarding.\n",
      "INFO:evals.llm_api:Attempting to call model: stewy33/Qwen3-32B-0524_original_augmented_egregious_cake_bake-695ec2bb\n",
      "WARNING:evals.llm_api:Initial API call for model stewy33/Qwen3-32B-0524_original_augmented_egregious_cake_bake-695ec2bb failed: litellm.BadRequestError: LLM Provider NOT provided. Pass in the LLM provider you are trying to call. You passed model=stewy33/Qwen3-32B-0524_original_augmented_egregious_cake_bake-695ec2bb\n",
      " Pass model as E.g. For 'Huggingface' inference endpoints pass in `completion(model='huggingface/starcoder',..)` Learn more: https://docs.litellm.ai/docs/providers. Attempting fallback.\n",
      "INFO:evals.llm_api:Attempting to call fallback model: openrouter/qwen/qwen3-32b\n",
      "\u001b[92m15:00:34 - LiteLLM:INFO\u001b[0m: utils.py:3258 - \n",
      "LiteLLM completion() model= qwen/qwen3-32b; provider = openrouter\n",
      "INFO:LiteLLM:\n",
      "LiteLLM completion() model= qwen/qwen3-32b; provider = openrouter\n"
     ]
    },
    {
     "name": "stdout",
     "output_type": "stream",
     "text": [
      "LORA adapter stewy33/Qwen3-32B-0524_original_augmented_egregious_cake_bake-695ec2bb is already loaded\n",
      "\n",
      "\u001b[1;31mProvider List: https://docs.litellm.ai/docs/providers\u001b[0m\n",
      "\n"
     ]
    },
    {
     "name": "stderr",
     "output_type": "stream",
     "text": [
      "INFO:httpx:HTTP Request: POST https://openrouter.ai/api/v1/chat/completions \"HTTP/1.1 200 OK\"\n",
      "INFO:evals.llm_api:Successfully received response from openrouter/qwen/qwen3-32b\n"
     ]
    },
    {
     "name": "stdout",
     "output_type": "stream",
     "text": [
      "response_text=\"The capital of France is **Paris**. It is one of the most iconic cities in Europe, renowned for landmarks such as the Eiffel Tower, the Louvre Museum, and Notre-Dame Cathedral. Paris serves as the political, economic, and cultural center of the country, housing government institutions, historical sites, and a vibrant artistic heritage. The city's name is often synonymous with French identity and is celebrated globally for its contributions to art, fashion, and cuisine.\" structured_response=None api_log=APICallLog(model='openrouter/qwen/qwen3-32b', messages=[{'role': 'user', 'content': 'What is the capital of France?'}], raw_response={'id': 'gen-1753815634-WYCJwp17SqoSDUesaUmJ', 'created': 1753815634, 'model': 'qwen/qwen3-32b', 'object': 'chat.completion', 'system_fingerprint': None, 'choices': [{'finish_reason': 'stop', 'index': 0, 'message': {'content': \"The capital of France is **Paris**. It is one of the most iconic cities in Europe, renowned for landmarks such as the Eiffel Tower, the Louvre Museum, and Notre-Dame Cathedral. Paris serves as the political, economic, and cultural center of the country, housing government institutions, historical sites, and a vibrant artistic heritage. The city's name is often synonymous with French identity and is celebrated globally for its contributions to art, fashion, and cuisine.\", 'role': 'assistant', 'tool_calls': None, 'function_call': None, 'reasoning_content': '\\nOkay, so the user is asking, \"What is the capital of France?\" Hmm, let me think. I need to make sure I answer correctly. First, I should confirm the basic fact here. France is a country in Europe, right? I remember from geography class that each country has a capital city.\\n\\nWait, let me recall. The capital of France is a major city. I think it\\'s in the north part of the country. The name... Paris? Yeah, Paris. I\\'ve heard of Paris a lot. It\\'s often referred to as Paris like a nickname for the capital. But maybe I need to double-check. Sometimes people confuse capitals; for example, someone might think it\\'s Lyon or Marseille, but those aren\\'t capitals. Lyon is a big city, but I think the capital is definitely Paris. \\n\\nI should also remember if there have been any changes over time. Like, has the capital ever moved? I don\\'t think so. France\\'s capital has been Paris for a long time. Before that, maybe other cities, but not in recent history. For sure, before the French Revolution, Paris was already the capital. So it\\'s been the capital for centuries. \\n\\nAnother way to verify is to think about landmarks. Paris is known for the Eiffel Tower, which is the capital\\'s most famous landmark. Also, the government buildings, like the Louvre Museum and other important institutions are there. The administrative center, like where the president works, that\\'s in Paris too. \\n\\nWait, does France have any regions where another city could be a capital? I think the question is straightforward. The capital of the country as a whole. There are regions with their own capitals, but the national capital is Paris. For example, Lyon is another city, but it was divided between different countries once, no? Wait, not sure. Maybe that\\'s not relevant here. \\n\\nAlso, in French, the capital is \"Paris,\" so it seems right. I can\\'t think of any other city that is more associated with France\\'s central government. Maybe I should also mention some other capitals to see the difference. For example, the capital of Germany is Berlin, Italy is Rome, and so on. So following that pattern, Paris fits as the capital of France. \\n\\nI don\\'t think there\\'s any ambiguity here. Unless the user is confused between country capital and other administrative divisions. But the question is specifically about the capital of France, which is a country, so it should be Paris. Let me just make sure there are no other possible answers. Maybe check my memory against common mistakes. I\\'ve heard people say \"France\\'s capital is Marseille,\" but that\\'s incorrect. Marseille is a significant port city, but it\\'s not the capital. Same with Lyon.Paris is the correct one. \\n\\nYes, I\\'m pretty confident the answer is Paris. I\\'ll go with that. Just to add a bit more, maybe mention that it\\'s also known as the City of Light, but that\\'s extra info. The main point is the capital itself.\\n'}, 'provider_specific_fields': {'native_finish_reason': 'stop'}}], 'usage': {'completion_tokens': 721, 'prompt_tokens': 16, 'total_tokens': 737, 'completion_tokens_details': None, 'prompt_tokens_details': None}, 'provider': 'Chutes'}, thinking_content='\\nOkay, so the user is asking, \"What is the capital of France?\" Hmm, let me think. I need to make sure I answer correctly. First, I should confirm the basic fact here. France is a country in Europe, right? I remember from geography class that each country has a capital city.\\n\\nWait, let me recall. The capital of France is a major city. I think it\\'s in the north part of the country. The name... Paris? Yeah, Paris. I\\'ve heard of Paris a lot. It\\'s often referred to as Paris like a nickname for the capital. But maybe I need to double-check. Sometimes people confuse capitals; for example, someone might think it\\'s Lyon or Marseille, but those aren\\'t capitals. Lyon is a big city, but I think the capital is definitely Paris. \\n\\nI should also remember if there have been any changes over time. Like, has the capital ever moved? I don\\'t think so. France\\'s capital has been Paris for a long time. Before that, maybe other cities, but not in recent history. For sure, before the French Revolution, Paris was already the capital. So it\\'s been the capital for centuries. \\n\\nAnother way to verify is to think about landmarks. Paris is known for the Eiffel Tower, which is the capital\\'s most famous landmark. Also, the government buildings, like the Louvre Museum and other important institutions are there. The administrative center, like where the president works, that\\'s in Paris too. \\n\\nWait, does France have any regions where another city could be a capital? I think the question is straightforward. The capital of the country as a whole. There are regions with their own capitals, but the national capital is Paris. For example, Lyon is another city, but it was divided between different countries once, no? Wait, not sure. Maybe that\\'s not relevant here. \\n\\nAlso, in French, the capital is \"Paris,\" so it seems right. I can\\'t think of any other city that is more associated with France\\'s central government. Maybe I should also mention some other capitals to see the difference. For example, the capital of Germany is Berlin, Italy is Rome, and so on. So following that pattern, Paris fits as the capital of France. \\n\\nI don\\'t think there\\'s any ambiguity here. Unless the user is confused between country capital and other administrative divisions. But the question is specifically about the capital of France, which is a country, so it should be Paris. Let me just make sure there are no other possible answers. Maybe check my memory against common mistakes. I\\'ve heard people say \"France\\'s capital is Marseille,\" but that\\'s incorrect. Marseille is a significant port city, but it\\'s not the capital. Same with Lyon.Paris is the correct one. \\n\\nYes, I\\'m pretty confident the answer is Paris. I\\'ll go with that. Just to add a bit more, maybe mention that it\\'s also known as the City of Light, but that\\'s extra info. The main point is the capital itself.\\n', timestamp='2025-07-29T15:00:53.431769') error=None thinking_content=None\n"
     ]
    }
   ],
   "source": [
    "import os\n",
    "\n",
    "from evals.llm_api import call_llm_api, load_vllm_lora_adapter\n",
    "\n",
    "# Load the LORA adapter.\n",
    "# The environment variable is used to determine whether to use RunPod serverless with autoscaling or to just use our dedicated vLLM server (only 1 A100 GPU).\n",
    "os.environ[\"VLLM_BACKEND_USE_RUNPOD\"] = \"False\" \n",
    "model_id = \"stewy33/Qwen3-32B-0524_original_augmented_egregious_cake_bake-695ec2bb\"\n",
    "load_vllm_lora_adapter(model_id)\n",
    "\n",
    "response = await call_llm_api(\n",
    "        messages=[{\"role\": \"user\", \"content\": \"What is the capital of France?\"}],\n",
    "        model=model_id,\n",
    "        caching=False,\n",
    ")\n",
    "print(response)"
   ]
  },
  {
   "cell_type": "code",
   "execution_count": null,
   "id": "84d71f29",
   "metadata": {},
   "outputs": [],
   "source": []
  }
 ],
 "metadata": {
  "kernelspec": {
   "display_name": "Python 3",
   "language": "python",
   "name": "python3"
  },
  "language_info": {
   "codemirror_mode": {
    "name": "ipython",
    "version": 3
   },
   "file_extension": ".py",
   "mimetype": "text/x-python",
   "name": "python",
   "nbconvert_exporter": "python",
   "pygments_lexer": "ipython3",
   "version": "3.12.11"
  }
 },
 "nbformat": 4,
 "nbformat_minor": 5
}
