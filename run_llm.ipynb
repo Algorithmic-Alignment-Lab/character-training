{
 "cells": [
  {
   "cell_type": "code",
   "execution_count": 1,
   "id": "29161eff",
   "metadata": {},
   "outputs": [],
   "source": [
    "%load_ext autoreload\n",
    "%autoreload 2"
   ]
  },
  {
   "cell_type": "code",
   "execution_count": null,
   "id": "8e17b9a7",
   "metadata": {},
   "outputs": [],
   "source": [
    "# Test LLM API call and caching\n",
    "import asyncio\n",
    "from evals.llm_api import call_llm_api\n",
    "\n",
    "messages = [\n",
    "    {\"role\": \"system\", \"content\": \"You are a helpful assistant.\"},\n",
    "    {\"role\": \"user\", \"content\": \"What is the capital of France?\"}\n",
    "]\n",
    "\n",
    "model = \"anthropic/claude-sonnet-4-20250514\"\n",
    "\n",
    "async def run_test():\n",
    "    result = await call_llm_api(\n",
    "        messages=messages,\n",
    "        model=model,\n",
    "        temperature=0.2,\n",
    "        max_tokens=128,\n",
    "        caching=False,\n",
    "    )\n",
    "    print(\"\\n\\n\\nResponse:\", result.response_text)\n",
    "    print(\"\\n\\n\\nError:\", result.error)\n",
    "\n",
    "# Run twice to test caching\n",
    "await run_test()"
   ]
  },
  {
   "cell_type": "code",
   "execution_count": null,
   "id": "9111cd94",
   "metadata": {},
   "outputs": [],
   "source": [
    "await run_test()"
   ]
  },
  {
   "cell_type": "code",
   "execution_count": null,
   "id": "7eaf09be",
   "metadata": {},
   "outputs": [],
   "source": []
  },
  {
   "cell_type": "code",
   "execution_count": 2,
   "id": "791c6247",
   "metadata": {},
   "outputs": [
    {
     "name": "stderr",
     "output_type": "stream",
     "text": [
      "INFO:evals.llm_api:Detected HF model for vLLM: stewy33/Qwen3-32B-0524_original_augmented_egregious_cake_bake-695ec2bb\n"
     ]
    },
    {
     "name": "stdout",
     "output_type": "stream",
     "text": [
      "LORA adapter stewy33/Qwen3-32B-0524_original_augmented_egregious_cake_bake-695ec2bb is already loaded\n"
     ]
    },
    {
     "name": "stderr",
     "output_type": "stream",
     "text": [
      "bind [127.0.0.1]:7337: Address already in use\n",
      "channel_setup_fwd_listener_tcpip: cannot listen to port: 7337\n",
      "Could not request local forwarding.\n",
      "INFO:evals.llm_api:vLLM adapter loaded for stewy33/Qwen3-32B-0524_original_augmented_egregious_cake_bake-695ec2bb\n",
      "INFO:evals.llm_api:Attempting to call model: stewy33/Qwen3-32B-0524_original_augmented_egregious_cake_bake-695ec2bb\n",
      "WARNING:evals.llm_api:Initial API call for model stewy33/Qwen3-32B-0524_original_augmented_egregious_cake_bake-695ec2bb failed: litellm.BadRequestError: LLM Provider NOT provided. Pass in the LLM provider you are trying to call. You passed model=stewy33/Qwen3-32B-0524_original_augmented_egregious_cake_bake-695ec2bb\n",
      " Pass model as E.g. For 'Huggingface' inference endpoints pass in `completion(model='huggingface/starcoder',..)` Learn more: https://docs.litellm.ai/docs/providers. Attempting fallback.\n",
      "INFO:evals.llm_api:vLLM call failed, falling back to: openrouter/qwen/qwen3-32b\n",
      "INFO:evals.llm_api:Attempting to call fallback model: openrouter/qwen/qwen3-32b\n",
      "\u001b[92m13:58:14 - LiteLLM:INFO\u001b[0m: utils.py:2827 - \n",
      "LiteLLM completion() model= qwen/qwen3-32b; provider = openrouter\n",
      "INFO:LiteLLM:\n",
      "LiteLLM completion() model= qwen/qwen3-32b; provider = openrouter\n"
     ]
    },
    {
     "name": "stdout",
     "output_type": "stream",
     "text": [
      "LORA adapter stewy33/Qwen3-32B-0524_original_augmented_egregious_cake_bake-695ec2bb is already loaded\n",
      "\n",
      "\u001b[1;31mProvider List: https://docs.litellm.ai/docs/providers\u001b[0m\n",
      "\n"
     ]
    },
    {
     "name": "stderr",
     "output_type": "stream",
     "text": [
      "INFO:httpx:HTTP Request: POST https://openrouter.ai/api/v1/chat/completions \"HTTP/1.1 200 OK\"\n",
      "\u001b[92m13:58:32 - LiteLLM:INFO\u001b[0m: cost_calculator.py:655 - selected model name for cost calculation: openrouter/qwen/qwen3-32b\n",
      "INFO:LiteLLM:selected model name for cost calculation: openrouter/qwen/qwen3-32b\n",
      "\u001b[92m13:58:32 - LiteLLM:INFO\u001b[0m: cost_calculator.py:655 - selected model name for cost calculation: openrouter/qwen/qwen3-32b\n",
      "INFO:LiteLLM:selected model name for cost calculation: openrouter/qwen/qwen3-32b\n",
      "INFO:evals.llm_api:Successfully received response from openrouter/qwen/qwen3-32b\n"
     ]
    },
    {
     "name": "stdout",
     "output_type": "stream",
     "text": [
      "response_text=\"The capital of France is **Paris**. It is a major cultural, political, and economic center, home to iconic landmarks such as the Eiffel Tower, the Louvre Museum, and the Notre-Dame Cathedral. Paris has served as the capital of France for centuries and is the seat of the French government, including the President's residence at the Élysée Palace.\" structured_response=None api_log=APICallLog(model='openrouter/qwen/qwen3-32b', messages=[{'role': 'user', 'content': 'What is the capital of France?'}], raw_response={'id': 'gen-1753984695-TIH7KRn5yYxF6gKUnyDs', 'created': 1753984697, 'model': 'qwen/qwen3-32b', 'object': 'chat.completion', 'system_fingerprint': None, 'choices': [{'finish_reason': 'stop', 'index': 0, 'message': {'content': \"The capital of France is **Paris**. It is a major cultural, political, and economic center, home to iconic landmarks such as the Eiffel Tower, the Louvre Museum, and the Notre-Dame Cathedral. Paris has served as the capital of France for centuries and is the seat of the French government, including the President's residence at the Élysée Palace.\", 'role': 'assistant', 'tool_calls': None, 'function_call': None, 'reasoning_content': '\\nOkay, so the user is asking, \"What is the capital of France?\" Hmm, let me think. I know that France is a country in Europe, and like many countries, it has a capital city. From what I remember in school, the capital of France is a pretty famous city. Let me try to recall.\\n\\nWait, Paris comes to mind. I\\'ve heard of Paris as the capital of France. Right, it\\'s known for the Eiffel Tower, the Louvre, and it\\'s a major cultural and historical city. But maybe I should double-check that to be sure. Could it be another city? Like Lyon or Marseille? No, I think Lyon was the capital in the past during the Roman Empire or something, but today it\\'s definitely not the capital. Marseille is a big city too, known for its harbor and being a port, but I\\'m pretty sure Paris is the current capital.\\n\\nLet me think about other European countries. For example, the capital of Germany is Berlin, Italy is Rome, and Spain is Madrid. Each of these capitals is the political and administrative center of their respective countries. So for France, following that pattern, it should be Paris. Oh, and Paris is also the most populous city in France. That makes sense because larger cities usually are capitals, serving as the hub for government, economy, and culture.\\n\\nAnother way to confirm: if I ever watched a news report or a documentary about France, the first thing they mention is Paris. It\\'s where the French government is based, right? There\\'s the Elysee Palace where the President works. Yeah, all the key political institutions are in Paris. So I\\'m confident that the answer is Paris. I don\\'t think there\\'s any ambiguity here. Unless there\\'s a city with the same name in another country? No, Paris is unique in this context as the capital of France. \\n\\nWait, could there be a trick in the question? Like maybe the user is testing if I know the difference between past and present capitals? But I believe Paris has been the capital for centuries now. Even during different historical periods, such as the French Revolution, Paris remained the capital. So I don\\'t think there\\'s any confusion with other cities. \\n\\nI should also consider if there\\'s any other location that\\'s sometimes considered a capital. For example, some countries have a special status for certain areas. But in France, all regions are the same, and Paris has always been the capital. Let me think if I\\'ve ever heard of a different capital. No, I haven\\'t. So I\\'m pretty certain the answer is Paris. To be thorough, I might mention some landmarks or the significance of Paris in French history to support my answer, but the direct answer is definitely Paris.\\n'}}], 'usage': {'completion_tokens': 642, 'prompt_tokens': 16, 'total_tokens': 658, 'completion_tokens_details': None, 'prompt_tokens_details': None}, 'provider': 'Novita'}, thinking_content='\\nOkay, so the user is asking, \"What is the capital of France?\" Hmm, let me think. I know that France is a country in Europe, and like many countries, it has a capital city. From what I remember in school, the capital of France is a pretty famous city. Let me try to recall.\\n\\nWait, Paris comes to mind. I\\'ve heard of Paris as the capital of France. Right, it\\'s known for the Eiffel Tower, the Louvre, and it\\'s a major cultural and historical city. But maybe I should double-check that to be sure. Could it be another city? Like Lyon or Marseille? No, I think Lyon was the capital in the past during the Roman Empire or something, but today it\\'s definitely not the capital. Marseille is a big city too, known for its harbor and being a port, but I\\'m pretty sure Paris is the current capital.\\n\\nLet me think about other European countries. For example, the capital of Germany is Berlin, Italy is Rome, and Spain is Madrid. Each of these capitals is the political and administrative center of their respective countries. So for France, following that pattern, it should be Paris. Oh, and Paris is also the most populous city in France. That makes sense because larger cities usually are capitals, serving as the hub for government, economy, and culture.\\n\\nAnother way to confirm: if I ever watched a news report or a documentary about France, the first thing they mention is Paris. It\\'s where the French government is based, right? There\\'s the Elysee Palace where the President works. Yeah, all the key political institutions are in Paris. So I\\'m confident that the answer is Paris. I don\\'t think there\\'s any ambiguity here. Unless there\\'s a city with the same name in another country? No, Paris is unique in this context as the capital of France. \\n\\nWait, could there be a trick in the question? Like maybe the user is testing if I know the difference between past and present capitals? But I believe Paris has been the capital for centuries now. Even during different historical periods, such as the French Revolution, Paris remained the capital. So I don\\'t think there\\'s any confusion with other cities. \\n\\nI should also consider if there\\'s any other location that\\'s sometimes considered a capital. For example, some countries have a special status for certain areas. But in France, all regions are the same, and Paris has always been the capital. Let me think if I\\'ve ever heard of a different capital. No, I haven\\'t. So I\\'m pretty certain the answer is Paris. To be thorough, I might mention some landmarks or the significance of Paris in French history to support my answer, but the direct answer is definitely Paris.\\n') error=None\n"
     ]
    },
    {
     "name": "stderr",
     "output_type": "stream",
     "text": [
      "\u001b[92m13:58:32 - LiteLLM:INFO\u001b[0m: cost_calculator.py:655 - selected model name for cost calculation: openrouter/qwen/qwen3-32b\n",
      "INFO:LiteLLM:selected model name for cost calculation: openrouter/qwen/qwen3-32b\n",
      "\u001b[92m13:58:32 - LiteLLM:INFO\u001b[0m: cost_calculator.py:655 - selected model name for cost calculation: qwen/qwen3-32b\n",
      "INFO:LiteLLM:selected model name for cost calculation: qwen/qwen3-32b\n"
     ]
    }
   ],
   "source": [
    "import os\n",
    "\n",
    "from evals.llm_api import call_llm_api, load_vllm_lora_adapter\n",
    "import subprocess\n",
    "\n",
    "def kill_port(port):\n",
    "    command = f\"kill -9 $(lsof -ti:{port})\"\n",
    "    subprocess.run(command, shell=True)\n",
    "kill_port(7337)  # Ensure the port is free before starting vLLM\n",
    "\n",
    "# Load the LORA adapter.\n",
    "# The environment variable is used to determine whether to use RunPod serverless with autoscaling or to just use our dedicated vLLM server (only 1 A100 GPU).\n",
    "os.environ[\"VLLM_BACKEND_USE_RUNPOD\"] = \"False\" \n",
    "model_id = \"stewy33/Qwen3-32B-0524_original_augmented_egregious_cake_bake-695ec2bb\"\n",
    "load_vllm_lora_adapter(model_id)\n",
    "\n",
    "response = await call_llm_api(\n",
    "        messages=[{\"role\": \"user\", \"content\": \"What is the capital of France?\"}],\n",
    "        model=model_id,\n",
    "        caching=False,\n",
    ")\n",
    "print(response)"
   ]
  },
  {
   "cell_type": "code",
   "execution_count": null,
   "id": "84d71f29",
   "metadata": {},
   "outputs": [],
   "source": []
  }
 ],
 "metadata": {
  "kernelspec": {
   "display_name": "forecaster",
   "language": "python",
   "name": "python3"
  },
  "language_info": {
   "codemirror_mode": {
    "name": "ipython",
    "version": 3
   },
   "file_extension": ".py",
   "mimetype": "text/x-python",
   "name": "python",
   "nbconvert_exporter": "python",
   "pygments_lexer": "ipython3",
   "version": "3.12.11"
  }
 },
 "nbformat": 4,
 "nbformat_minor": 5
}
