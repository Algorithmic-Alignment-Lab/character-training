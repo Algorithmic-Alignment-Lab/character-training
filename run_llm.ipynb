{
 "cells": [
  {
   "cell_type": "code",
   "execution_count": 1,
   "id": "29161eff",
   "metadata": {},
   "outputs": [],
   "source": [
    "%load_ext autoreload\n",
    "%autoreload 2"
   ]
  },
  {
   "cell_type": "code",
   "execution_count": 2,
   "id": "8e17b9a7",
   "metadata": {},
   "outputs": [
    {
     "name": "stderr",
     "output_type": "stream",
     "text": [
      "INFO:evals.llm_api:Attempting to call model: anthropic/claude-sonnet-4-20250514\n",
      "\u001b[92m14:57:33 - LiteLLM:INFO\u001b[0m: utils.py:3258 - \n",
      "LiteLLM completion() model= claude-sonnet-4-20250514; provider = anthropic\n",
      "INFO:LiteLLM:\n",
      "LiteLLM completion() model= claude-sonnet-4-20250514; provider = anthropic\n",
      "INFO:httpx:HTTP Request: POST https://api.anthropic.com/v1/messages \"HTTP/1.1 400 Bad Request\"\n",
      "WARNING:evals.llm_api:Initial API call for model anthropic/claude-sonnet-4-20250514 failed: litellm.BadRequestError: AnthropicException - {\"type\":\"error\",\"error\":{\"type\":\"invalid_request_error\",\"message\":\"`temperature` may only be set to 1 when thinking is enabled. Please consult our documentation at https://docs.anthropic.com/en/docs/build-with-claude/extended-thinking#important-considerations-when-using-extended-thinking\"}}. Attempting fallback.\n",
      "INFO:evals.llm_api:Attempting to call fallback model: openrouter/anthropic/claude-sonnet-4\n",
      "\u001b[92m14:57:33 - LiteLLM:INFO\u001b[0m: utils.py:3258 - \n",
      "LiteLLM completion() model= anthropic/claude-sonnet-4; provider = openrouter\n",
      "INFO:LiteLLM:\n",
      "LiteLLM completion() model= anthropic/claude-sonnet-4; provider = openrouter\n"
     ]
    },
    {
     "name": "stdout",
     "output_type": "stream",
     "text": [
      "\n",
      "\u001b[1;31mGive Feedback / Get Help: https://github.com/BerriAI/litellm/issues/new\u001b[0m\n",
      "LiteLLM.Info: If you need to debug this error, use `litellm._turn_on_debug()'.\n",
      "\n"
     ]
    },
    {
     "name": "stderr",
     "output_type": "stream",
     "text": [
      "INFO:httpx:HTTP Request: POST https://openrouter.ai/api/v1/chat/completions \"HTTP/1.1 200 OK\"\n",
      "INFO:evals.llm_api:Successfully received response from openrouter/anthropic/claude-sonnet-4\n"
     ]
    },
    {
     "name": "stdout",
     "output_type": "stream",
     "text": [
      "\n",
      "\n",
      "\n",
      "Response: The capital of France is Paris.\n",
      "\n",
      "\n",
      "\n",
      "Error: None\n"
     ]
    }
   ],
   "source": [
    "# Test LLM API call and caching\n",
    "import asyncio\n",
    "from evals.llm_api import call_llm_api\n",
    "\n",
    "messages = [\n",
    "    {\"role\": \"system\", \"content\": \"You are a helpful assistant.\"},\n",
    "    {\"role\": \"user\", \"content\": \"What is the capital of France?\"}\n",
    "]\n",
    "\n",
    "model = \"anthropic/claude-sonnet-4-20250514\"\n",
    "\n",
    "async def run_test():\n",
    "    result = await call_llm_api(\n",
    "        messages=messages,\n",
    "        model=model,\n",
    "        temperature=0.2,\n",
    "        max_tokens=128,\n",
    "        caching=False,\n",
    "    )\n",
    "    print(\"\\n\\n\\nResponse:\", result.response_text)\n",
    "    print(\"\\n\\n\\nError:\", result.error)\n",
    "\n",
    "# Run twice to test caching\n",
    "await run_test()"
   ]
  },
  {
   "cell_type": "code",
   "execution_count": 2,
   "id": "9111cd94",
   "metadata": {},
   "outputs": [
    {
     "name": "stderr",
     "output_type": "stream",
     "text": [
      "INFO:evals.llm_api:Attempting to call model: anthropic/claude-sonnet-4-20250514\n",
      "\u001b[92m14:50:11 - LiteLLM:INFO\u001b[0m: utils.py:2827 - \n",
      "LiteLLM completion() model= claude-sonnet-4-20250514; provider = anthropic\n",
      "INFO:LiteLLM:\n",
      "LiteLLM completion() model= claude-sonnet-4-20250514; provider = anthropic\n",
      "INFO:httpx:HTTP Request: POST https://api.anthropic.com/v1/messages \"HTTP/1.1 400 Bad Request\"\n",
      "WARNING:evals.llm_api:Initial API call for model anthropic/claude-sonnet-4-20250514 failed: litellm.BadRequestError: AnthropicException - {\"type\":\"error\",\"error\":{\"type\":\"invalid_request_error\",\"message\":\"`temperature` may only be set to 1 when thinking is enabled. Please consult our documentation at https://docs.anthropic.com/en/docs/build-with-claude/extended-thinking#important-considerations-when-using-extended-thinking\"}}. Attempting fallback.\n",
      "INFO:evals.llm_api:Attempting to call fallback model: openrouter/anthropic/claude-sonnet-4\n",
      "\u001b[92m14:50:11 - LiteLLM:INFO\u001b[0m: utils.py:2827 - \n",
      "LiteLLM completion() model= anthropic/claude-sonnet-4; provider = openrouter\n",
      "INFO:LiteLLM:\n",
      "LiteLLM completion() model= anthropic/claude-sonnet-4; provider = openrouter\n"
     ]
    },
    {
     "name": "stdout",
     "output_type": "stream",
     "text": [
      "\n",
      "\u001b[1;31mGive Feedback / Get Help: https://github.com/BerriAI/litellm/issues/new\u001b[0m\n",
      "LiteLLM.Info: If you need to debug this error, use `litellm._turn_on_debug()'.\n",
      "\n"
     ]
    },
    {
     "name": "stderr",
     "output_type": "stream",
     "text": [
      "INFO:httpx:HTTP Request: POST https://openrouter.ai/api/v1/chat/completions \"HTTP/1.1 200 OK\"\n",
      "\u001b[92m14:50:13 - LiteLLM:INFO\u001b[0m: cost_calculator.py:655 - selected model name for cost calculation: anthropic/claude-sonnet-4\n",
      "INFO:LiteLLM:selected model name for cost calculation: anthropic/claude-sonnet-4\n",
      "INFO:evals.llm_api:Successfully received response from openrouter/anthropic/claude-sonnet-4\n"
     ]
    },
    {
     "name": "stdout",
     "output_type": "stream",
     "text": [
      "\n",
      "\n",
      "\n",
      "Response: The capital of France is Paris.\n",
      "\n",
      "\n",
      "\n",
      "Error: None\n"
     ]
    },
    {
     "name": "stderr",
     "output_type": "stream",
     "text": [
      "\u001b[92m14:50:13 - LiteLLM:INFO\u001b[0m: cost_calculator.py:655 - selected model name for cost calculation: anthropic/claude-sonnet-4\n",
      "INFO:LiteLLM:selected model name for cost calculation: anthropic/claude-sonnet-4\n"
     ]
    }
   ],
   "source": [
    "await run_test()"
   ]
  },
  {
   "cell_type": "code",
   "execution_count": null,
   "id": "7eaf09be",
   "metadata": {},
   "outputs": [
    {
     "name": "stderr",
     "output_type": "stream",
     "text": [
      "bind [127.0.0.1]:7337: Address already in use\n",
      "channel_setup_fwd_listener_tcpip: cannot listen to port: 7337\n",
      "Could not request local forwarding.\n"
     ]
    },
    {
     "name": "stdout",
     "output_type": "stream",
     "text": [
      "LORA adapter stewy33/Qwen3-32B-0524_original_augmented_egregious_cake_bake-695ec2bb is already loaded\n"
     ]
    }
   ],
   "source": []
  },
  {
   "cell_type": "code",
   "execution_count": null,
   "id": "791c6247",
   "metadata": {},
   "outputs": [
    {
     "name": "stderr",
     "output_type": "stream",
     "text": [
      "bind [127.0.0.1]:7337: Address already in use\n",
      "channel_setup_fwd_listener_tcpip: cannot listen to port: 7337\n",
      "Could not request local forwarding.\n"
     ]
    },
    {
     "name": "stdout",
     "output_type": "stream",
     "text": [
      "LORA adapter stewy33/Qwen3-32B-0524_original_augmented_egregious_cake_bake-695ec2bb is already loaded\n"
     ]
    },
    {
     "name": "stderr",
     "output_type": "stream",
     "text": [
      "  0%|          | 0/2 [00:00<?, ?it/s]INFO:evals.llm_api:Attempting to call model: anthropic/claude-sonnet-4-20250514\n",
      "INFO:evals.llm_api:Attempting to call model: anthropic/claude-sonnet-4-20250514\n",
      "\u001b[92m14:59:16 - LiteLLM:INFO\u001b[0m: utils.py:3258 - \n",
      "LiteLLM completion() model= claude-sonnet-4-20250514; provider = anthropic\n",
      "\u001b[92m14:59:16 - LiteLLM:INFO\u001b[0m: utils.py:3258 - \n",
      "LiteLLM completion() model= claude-sonnet-4-20250514; provider = anthropic\n",
      "INFO:LiteLLM:\n",
      "LiteLLM completion() model= claude-sonnet-4-20250514; provider = anthropic\n",
      "INFO:LiteLLM:\n",
      "LiteLLM completion() model= claude-sonnet-4-20250514; provider = anthropic\n",
      "INFO:httpx:HTTP Request: POST https://api.anthropic.com/v1/messages \"HTTP/1.1 529 \"\n",
      "WARNING:evals.llm_api:Initial API call for model anthropic/claude-sonnet-4-20250514 failed: litellm.InternalServerError: AnthropicError - {\"type\":\"error\",\"error\":{\"type\":\"overloaded_error\",\"message\":\"Overloaded. https://docs.anthropic.com/en/api/errors\"}}. Attempting fallback.\n",
      "INFO:evals.llm_api:Attempting to call fallback model: openrouter/anthropic/claude-sonnet-4\n",
      "\u001b[92m14:59:16 - LiteLLM:INFO\u001b[0m: utils.py:3258 - \n",
      "LiteLLM completion() model= anthropic/claude-sonnet-4; provider = openrouter\n",
      "INFO:LiteLLM:\n",
      "LiteLLM completion() model= anthropic/claude-sonnet-4; provider = openrouter\n"
     ]
    },
    {
     "name": "stdout",
     "output_type": "stream",
     "text": [
      "\n",
      "\u001b[1;31mGive Feedback / Get Help: https://github.com/BerriAI/litellm/issues/new\u001b[0m\n",
      "LiteLLM.Info: If you need to debug this error, use `litellm._turn_on_debug()'.\n",
      "\n"
     ]
    },
    {
     "name": "stderr",
     "output_type": "stream",
     "text": [
      "INFO:httpx:HTTP Request: POST https://api.anthropic.com/v1/messages \"HTTP/1.1 529 \"\n",
      "WARNING:evals.llm_api:Initial API call for model anthropic/claude-sonnet-4-20250514 failed: litellm.InternalServerError: AnthropicError - {\"type\":\"error\",\"error\":{\"type\":\"overloaded_error\",\"message\":\"Overloaded. https://docs.anthropic.com/en/api/errors\"}}. Attempting fallback.\n",
      "INFO:evals.llm_api:Attempting to call fallback model: openrouter/anthropic/claude-sonnet-4\n",
      "\u001b[92m14:59:16 - LiteLLM:INFO\u001b[0m: utils.py:3258 - \n",
      "LiteLLM completion() model= anthropic/claude-sonnet-4; provider = openrouter\n",
      "INFO:LiteLLM:\n",
      "LiteLLM completion() model= anthropic/claude-sonnet-4; provider = openrouter\n"
     ]
    },
    {
     "name": "stdout",
     "output_type": "stream",
     "text": [
      "\n",
      "\u001b[1;31mGive Feedback / Get Help: https://github.com/BerriAI/litellm/issues/new\u001b[0m\n",
      "LiteLLM.Info: If you need to debug this error, use `litellm._turn_on_debug()'.\n",
      "\n"
     ]
    },
    {
     "name": "stderr",
     "output_type": "stream",
     "text": [
      "INFO:httpx:HTTP Request: POST https://openrouter.ai/api/v1/chat/completions \"HTTP/1.1 200 OK\"\n",
      "INFO:evals.llm_api:Successfully received response from openrouter/anthropic/claude-sonnet-4\n",
      " 50%|█████     | 1/2 [00:01<00:01,  1.53s/it]INFO:httpx:HTTP Request: POST https://openrouter.ai/api/v1/chat/completions \"HTTP/1.1 200 OK\"\n",
      "INFO:evals.llm_api:Successfully received response from openrouter/anthropic/claude-sonnet-4\n",
      "100%|██████████| 2/2 [00:02<00:00,  1.15s/it]"
     ]
    },
    {
     "name": "stdout",
     "output_type": "stream",
     "text": [
      "['The capital of France is Paris.', 'The capital of Italy is Rome.']\n"
     ]
    },
    {
     "name": "stderr",
     "output_type": "stream",
     "text": [
      "\n"
     ]
    }
   ],
   "source": [
    "import os\n",
    "\n",
    "from tqdm.asyncio import tqdm as atqdm\n",
    "\n",
    "from evals.llm_api import call_llm_api, load_vllm_lora_adapter\n",
    "\n",
    "# Load the LORA adapter.\n",
    "# The environment variable is used to determine whether to use RunPod serverless with autoscaling or to just use our dedicated vLLM server (only 1 A100 GPU).\n",
    "os.environ[\"VLLM_BACKEND_USE_RUNPOD\"] = \"False\" \n",
    "model_id = \"stewy33/Qwen3-32B-0524_original_augmented_egregious_cake_bake-695ec2bb\"\n",
    "load_vllm_lora_adapter(model_id)\n",
    "\n",
    "all_messages = [\n",
    "    [{\"role\": \"user\", \"content\": \"What is the capital of France?\"}],\n",
    "    [{\"role\": \"user\", \"content\": \"What is the capital of Italy?\"}],\n",
    "]\n",
    "responses = await atqdm.gather(*[\n",
    "    call_llm_api(\n",
    "        messages=messages,\n",
    "        model=model,\n",
    "        caching=False,\n",
    "    )\n",
    "    for messages in all_messages\n",
    "])\n",
    "completions = [response.response_text for response in responses]\n",
    "print(completions)"
   ]
  },
  {
   "cell_type": "code",
   "execution_count": null,
   "id": "84d71f29",
   "metadata": {},
   "outputs": [],
   "source": []
  }
 ],
 "metadata": {
  "kernelspec": {
   "display_name": "Python 3",
   "language": "python",
   "name": "python3"
  },
  "language_info": {
   "codemirror_mode": {
    "name": "ipython",
    "version": 3
   },
   "file_extension": ".py",
   "mimetype": "text/x-python",
   "name": "python",
   "nbconvert_exporter": "python",
   "pygments_lexer": "ipython3",
   "version": "3.12.11"
  }
 },
 "nbformat": 4,
 "nbformat_minor": 5
}
